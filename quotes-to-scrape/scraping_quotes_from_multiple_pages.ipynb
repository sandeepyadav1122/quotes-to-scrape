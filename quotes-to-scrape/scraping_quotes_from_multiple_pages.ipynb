{
 "cells": [
  {
   "cell_type": "code",
   "execution_count": 15,
   "metadata": {},
   "outputs": [],
   "source": [
    "# Import the necessary libraries\n",
    "import requests             # For making HTTP requests to websites\n",
    "import pandas as pd         # For data manipulation and analysis\n",
    "from tqdm import tqdm       # For displaying progress bars in loops\n",
    "from bs4 import BeautifulSoup  # For parsing HTML and extracting data"
   ]
  },
  {
   "cell_type": "code",
   "execution_count": 16,
   "metadata": {},
   "outputs": [
    {
     "name": "stderr",
     "output_type": "stream",
     "text": [
      "  0%|          | 0/10 [00:00<?, ?it/s]"
     ]
    },
    {
     "name": "stderr",
     "output_type": "stream",
     "text": [
      "100%|██████████| 10/10 [00:30<00:00,  3.09s/it]\n"
     ]
    }
   ],
   "source": [
    "# Initialize an empty list to store the scraped data\n",
    "data = []\n",
    "\n",
    "# Loop through pages 1 to 10 (inclusive) to scrape data\n",
    "for page in tqdm(range(1, 11)):\n",
    "    \n",
    "    # Construct the URL for each page\n",
    "    link = 'https://quotes.toscrape.com/page/' + str(page)\n",
    "    \n",
    "    # Send a GET request to the URL and store the response\n",
    "    res = requests.get(link)\n",
    "    \n",
    "    # Parse the HTML content of the page using BeautifulSoup\n",
    "    soup = BeautifulSoup(res.text, 'html.parser')\n",
    "    \n",
    "    # Loop through all 'div' elements with the class 'quote' to extract quotes\n",
    "    for sp in soup.find_all('div', class_='quote'):\n",
    "        \n",
    "        # Extract the quote text, remove the enclosing quotation marks\n",
    "        quote = sp.find('span', class_='text').text[1:-1]\n",
    "        \n",
    "        # Extract the author's name\n",
    "        author = sp.find('small').text\n",
    "        \n",
    "        # Extract the author's ID (link to author's page)\n",
    "        author_id = sp.find('a').get('href')\n",
    "        \n",
    "        # Initialize a list to store tags associated with the quote\n",
    "        tags = []\n",
    "        \n",
    "        # Loop through all 'a' elements with the class 'tag' to extract tags\n",
    "        for tag in sp.find_all('a', class_='tag'):\n",
    "            tags.append(tag.text)\n",
    "        \n",
    "        # Join the list of tags into a single string, separated by commas\n",
    "        tags = ','.join(tags)\n",
    "        \n",
    "        # Append the extracted data (quote, author, author_id, tags) to the data list\n",
    "        data.append([quote, author, author_id, tags])\n"
   ]
  },
  {
   "cell_type": "code",
   "execution_count": 17,
   "metadata": {},
   "outputs": [
    {
     "data": {
      "text/plain": [
       "100"
      ]
     },
     "execution_count": 17,
     "metadata": {},
     "output_type": "execute_result"
    }
   ],
   "source": [
    "len(data)"
   ]
  },
  {
   "cell_type": "code",
   "execution_count": 18,
   "metadata": {},
   "outputs": [],
   "source": [
    "df = pd.DataFrame(data, columns=['quote', 'author', 'author_id', 'tags'])  # 'df' is a DataFrame created from 'data' with specified column names"
   ]
  },
  {
   "cell_type": "code",
   "execution_count": 19,
   "metadata": {},
   "outputs": [],
   "source": [
    "df.to_csv('total_Quotes.csv', index=False)  # Saves the DataFrame 'df' to a CSV file named 'Quotes.csv' without writing row indices"
   ]
  },
  {
   "cell_type": "code",
   "execution_count": 20,
   "metadata": {},
   "outputs": [
    {
     "data": {
      "text/html": [
       "<div>\n",
       "<style scoped>\n",
       "    .dataframe tbody tr th:only-of-type {\n",
       "        vertical-align: middle;\n",
       "    }\n",
       "\n",
       "    .dataframe tbody tr th {\n",
       "        vertical-align: top;\n",
       "    }\n",
       "\n",
       "    .dataframe thead th {\n",
       "        text-align: right;\n",
       "    }\n",
       "</style>\n",
       "<table border=\"1\" class=\"dataframe\">\n",
       "  <thead>\n",
       "    <tr style=\"text-align: right;\">\n",
       "      <th></th>\n",
       "      <th>quote</th>\n",
       "      <th>author</th>\n",
       "      <th>author_id</th>\n",
       "      <th>tags</th>\n",
       "    </tr>\n",
       "  </thead>\n",
       "  <tbody>\n",
       "    <tr>\n",
       "      <th>0</th>\n",
       "      <td>The world as we have created it is a process o...</td>\n",
       "      <td>Albert Einstein</td>\n",
       "      <td>/author/Albert-Einstein</td>\n",
       "      <td>change,deep-thoughts,thinking,world</td>\n",
       "    </tr>\n",
       "    <tr>\n",
       "      <th>1</th>\n",
       "      <td>It is our choices, Harry, that show what we tr...</td>\n",
       "      <td>J.K. Rowling</td>\n",
       "      <td>/author/J-K-Rowling</td>\n",
       "      <td>abilities,choices</td>\n",
       "    </tr>\n",
       "    <tr>\n",
       "      <th>2</th>\n",
       "      <td>There are only two ways to live your life. One...</td>\n",
       "      <td>Albert Einstein</td>\n",
       "      <td>/author/Albert-Einstein</td>\n",
       "      <td>inspirational,life,live,miracle,miracles</td>\n",
       "    </tr>\n",
       "    <tr>\n",
       "      <th>3</th>\n",
       "      <td>The person, be it gentleman or lady, who has n...</td>\n",
       "      <td>Jane Austen</td>\n",
       "      <td>/author/Jane-Austen</td>\n",
       "      <td>aliteracy,books,classic,humor</td>\n",
       "    </tr>\n",
       "    <tr>\n",
       "      <th>4</th>\n",
       "      <td>Imperfection is beauty, madness is genius and ...</td>\n",
       "      <td>Marilyn Monroe</td>\n",
       "      <td>/author/Marilyn-Monroe</td>\n",
       "      <td>be-yourself,inspirational</td>\n",
       "    </tr>\n",
       "    <tr>\n",
       "      <th>...</th>\n",
       "      <td>...</td>\n",
       "      <td>...</td>\n",
       "      <td>...</td>\n",
       "      <td>...</td>\n",
       "    </tr>\n",
       "    <tr>\n",
       "      <th>95</th>\n",
       "      <td>You never really understand a person until you...</td>\n",
       "      <td>Harper Lee</td>\n",
       "      <td>/author/Harper-Lee</td>\n",
       "      <td>better-life-empathy</td>\n",
       "    </tr>\n",
       "    <tr>\n",
       "      <th>96</th>\n",
       "      <td>You have to write the book that wants to be wr...</td>\n",
       "      <td>Madeleine L'Engle</td>\n",
       "      <td>/author/Madeleine-LEngle</td>\n",
       "      <td>books,children,difficult,grown-ups,write,write...</td>\n",
       "    </tr>\n",
       "    <tr>\n",
       "      <th>97</th>\n",
       "      <td>Never tell the truth to people who are not wor...</td>\n",
       "      <td>Mark Twain</td>\n",
       "      <td>/author/Mark-Twain</td>\n",
       "      <td>truth</td>\n",
       "    </tr>\n",
       "    <tr>\n",
       "      <th>98</th>\n",
       "      <td>A person's a person, no matter how small.</td>\n",
       "      <td>Dr. Seuss</td>\n",
       "      <td>/author/Dr-Seuss</td>\n",
       "      <td>inspirational</td>\n",
       "    </tr>\n",
       "    <tr>\n",
       "      <th>99</th>\n",
       "      <td>... a mind needs books as a sword needs a whet...</td>\n",
       "      <td>George R.R. Martin</td>\n",
       "      <td>/author/George-R-R-Martin</td>\n",
       "      <td>books,mind</td>\n",
       "    </tr>\n",
       "  </tbody>\n",
       "</table>\n",
       "<p>100 rows × 4 columns</p>\n",
       "</div>"
      ],
      "text/plain": [
       "                                                quote              author  \\\n",
       "0   The world as we have created it is a process o...     Albert Einstein   \n",
       "1   It is our choices, Harry, that show what we tr...        J.K. Rowling   \n",
       "2   There are only two ways to live your life. One...     Albert Einstein   \n",
       "3   The person, be it gentleman or lady, who has n...         Jane Austen   \n",
       "4   Imperfection is beauty, madness is genius and ...      Marilyn Monroe   \n",
       "..                                                ...                 ...   \n",
       "95  You never really understand a person until you...          Harper Lee   \n",
       "96  You have to write the book that wants to be wr...   Madeleine L'Engle   \n",
       "97  Never tell the truth to people who are not wor...          Mark Twain   \n",
       "98          A person's a person, no matter how small.           Dr. Seuss   \n",
       "99  ... a mind needs books as a sword needs a whet...  George R.R. Martin   \n",
       "\n",
       "                    author_id  \\\n",
       "0     /author/Albert-Einstein   \n",
       "1         /author/J-K-Rowling   \n",
       "2     /author/Albert-Einstein   \n",
       "3         /author/Jane-Austen   \n",
       "4      /author/Marilyn-Monroe   \n",
       "..                        ...   \n",
       "95         /author/Harper-Lee   \n",
       "96   /author/Madeleine-LEngle   \n",
       "97         /author/Mark-Twain   \n",
       "98           /author/Dr-Seuss   \n",
       "99  /author/George-R-R-Martin   \n",
       "\n",
       "                                                 tags  \n",
       "0                 change,deep-thoughts,thinking,world  \n",
       "1                                   abilities,choices  \n",
       "2            inspirational,life,live,miracle,miracles  \n",
       "3                       aliteracy,books,classic,humor  \n",
       "4                           be-yourself,inspirational  \n",
       "..                                                ...  \n",
       "95                                better-life-empathy  \n",
       "96  books,children,difficult,grown-ups,write,write...  \n",
       "97                                              truth  \n",
       "98                                      inspirational  \n",
       "99                                         books,mind  \n",
       "\n",
       "[100 rows x 4 columns]"
      ]
     },
     "execution_count": 20,
     "metadata": {},
     "output_type": "execute_result"
    }
   ],
   "source": [
    "df"
   ]
  },
  {
   "cell_type": "code",
   "execution_count": 21,
   "metadata": {},
   "outputs": [],
   "source": [
    "df['author_link'] = 'https://quotes.toscrape.com' + df['author_id']"
   ]
  },
  {
   "cell_type": "code",
   "execution_count": 22,
   "metadata": {},
   "outputs": [
    {
     "data": {
      "text/html": [
       "<div>\n",
       "<style scoped>\n",
       "    .dataframe tbody tr th:only-of-type {\n",
       "        vertical-align: middle;\n",
       "    }\n",
       "\n",
       "    .dataframe tbody tr th {\n",
       "        vertical-align: top;\n",
       "    }\n",
       "\n",
       "    .dataframe thead th {\n",
       "        text-align: right;\n",
       "    }\n",
       "</style>\n",
       "<table border=\"1\" class=\"dataframe\">\n",
       "  <thead>\n",
       "    <tr style=\"text-align: right;\">\n",
       "      <th></th>\n",
       "      <th>quote</th>\n",
       "      <th>author</th>\n",
       "      <th>author_id</th>\n",
       "      <th>tags</th>\n",
       "      <th>author_link</th>\n",
       "    </tr>\n",
       "  </thead>\n",
       "  <tbody>\n",
       "    <tr>\n",
       "      <th>0</th>\n",
       "      <td>The world as we have created it is a process o...</td>\n",
       "      <td>Albert Einstein</td>\n",
       "      <td>/author/Albert-Einstein</td>\n",
       "      <td>change,deep-thoughts,thinking,world</td>\n",
       "      <td>https://quotes.toscrape.com/author/Albert-Eins...</td>\n",
       "    </tr>\n",
       "    <tr>\n",
       "      <th>1</th>\n",
       "      <td>It is our choices, Harry, that show what we tr...</td>\n",
       "      <td>J.K. Rowling</td>\n",
       "      <td>/author/J-K-Rowling</td>\n",
       "      <td>abilities,choices</td>\n",
       "      <td>https://quotes.toscrape.com/author/J-K-Rowling</td>\n",
       "    </tr>\n",
       "    <tr>\n",
       "      <th>2</th>\n",
       "      <td>There are only two ways to live your life. One...</td>\n",
       "      <td>Albert Einstein</td>\n",
       "      <td>/author/Albert-Einstein</td>\n",
       "      <td>inspirational,life,live,miracle,miracles</td>\n",
       "      <td>https://quotes.toscrape.com/author/Albert-Eins...</td>\n",
       "    </tr>\n",
       "    <tr>\n",
       "      <th>3</th>\n",
       "      <td>The person, be it gentleman or lady, who has n...</td>\n",
       "      <td>Jane Austen</td>\n",
       "      <td>/author/Jane-Austen</td>\n",
       "      <td>aliteracy,books,classic,humor</td>\n",
       "      <td>https://quotes.toscrape.com/author/Jane-Austen</td>\n",
       "    </tr>\n",
       "    <tr>\n",
       "      <th>4</th>\n",
       "      <td>Imperfection is beauty, madness is genius and ...</td>\n",
       "      <td>Marilyn Monroe</td>\n",
       "      <td>/author/Marilyn-Monroe</td>\n",
       "      <td>be-yourself,inspirational</td>\n",
       "      <td>https://quotes.toscrape.com/author/Marilyn-Monroe</td>\n",
       "    </tr>\n",
       "  </tbody>\n",
       "</table>\n",
       "</div>"
      ],
      "text/plain": [
       "                                               quote           author  \\\n",
       "0  The world as we have created it is a process o...  Albert Einstein   \n",
       "1  It is our choices, Harry, that show what we tr...     J.K. Rowling   \n",
       "2  There are only two ways to live your life. One...  Albert Einstein   \n",
       "3  The person, be it gentleman or lady, who has n...      Jane Austen   \n",
       "4  Imperfection is beauty, madness is genius and ...   Marilyn Monroe   \n",
       "\n",
       "                 author_id                                      tags  \\\n",
       "0  /author/Albert-Einstein       change,deep-thoughts,thinking,world   \n",
       "1      /author/J-K-Rowling                         abilities,choices   \n",
       "2  /author/Albert-Einstein  inspirational,life,live,miracle,miracles   \n",
       "3      /author/Jane-Austen             aliteracy,books,classic,humor   \n",
       "4   /author/Marilyn-Monroe                 be-yourself,inspirational   \n",
       "\n",
       "                                         author_link  \n",
       "0  https://quotes.toscrape.com/author/Albert-Eins...  \n",
       "1     https://quotes.toscrape.com/author/J-K-Rowling  \n",
       "2  https://quotes.toscrape.com/author/Albert-Eins...  \n",
       "3     https://quotes.toscrape.com/author/Jane-Austen  \n",
       "4  https://quotes.toscrape.com/author/Marilyn-Monroe  "
      ]
     },
     "execution_count": 22,
     "metadata": {},
     "output_type": "execute_result"
    }
   ],
   "source": [
    "df.head()"
   ]
  },
  {
   "cell_type": "code",
   "execution_count": 23,
   "metadata": {},
   "outputs": [],
   "source": [
    "df.to_csv('total_Quotes.csv', index= False)"
   ]
  },
  {
   "cell_type": "code",
   "execution_count": null,
   "metadata": {},
   "outputs": [],
   "source": []
  }
 ],
 "metadata": {
  "kernelspec": {
   "display_name": "Python 3",
   "language": "python",
   "name": "python3"
  },
  "language_info": {
   "codemirror_mode": {
    "name": "ipython",
    "version": 3
   },
   "file_extension": ".py",
   "mimetype": "text/x-python",
   "name": "python",
   "nbconvert_exporter": "python",
   "pygments_lexer": "ipython3",
   "version": "3.12.5"
  }
 },
 "nbformat": 4,
 "nbformat_minor": 2
}
