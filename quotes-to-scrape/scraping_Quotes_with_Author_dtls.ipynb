{
 "cells": [
  {
   "cell_type": "code",
   "execution_count": 3,
   "metadata": {},
   "outputs": [],
   "source": [
    "import requests  # Importing the 'requests' library to make HTTP requests\n",
    "from bs4 import BeautifulSoup  # Importing 'BeautifulSoup' from the 'bs4' library to parse HTML\n",
    "import pandas as pd  # Importing 'pandas' library as 'pd' to work with data in DataFrame format\n"
   ]
  },
  {
   "cell_type": "code",
   "execution_count": 4,
   "metadata": {},
   "outputs": [],
   "source": [
    "link = 'https://quotes.toscrape.com/'  # URL of the webpage to scrape\n",
    "\n",
    "res = requests.get(link)  # Sends an HTTP GET request to the URL and stores the response in 'res'\n"
   ]
  },
  {
   "cell_type": "code",
   "execution_count": 5,
   "metadata": {},
   "outputs": [],
   "source": [
    "soup = BeautifulSoup(res.text, 'html.parser')  # 'soup' is an object that parses the HTML content of 'res.text'"
   ]
  },
  {
   "cell_type": "code",
   "execution_count": 6,
   "metadata": {},
   "outputs": [],
   "source": [
    "data = []\n",
    "\n",
    "for sp in soup.find_all('div', class_ = 'quote'):  # sp refers to each 'div' element with class 'quote'\n",
    "\n",
    "    quote     = sp.find('span', class_ = 'text').text[1:-1]  # Extracts the quote text from the 'span' element\n",
    "    author    = sp.find('small').text  # Extracts the author's name from the 'small' element\n",
    "    author_id = sp.find('a').get('href')  # Extracts the author's ID from the 'a' tag's href attribute\n",
    "    \n",
    "    tags = []\n",
    "    for tag in sp.find_all('a', class_ = 'tag'):  # Extracts all tags associated with the quote\n",
    "        tags.append(tag.text)\n",
    "    tags = ','.join(tags)  # Joins the tags into a single string, separated by commas\n",
    "\n",
    "    data.append([quote, author, author_id, tags])  # Appends the extracted data to the 'data' list\n"
   ]
  },
  {
   "cell_type": "code",
   "execution_count": 7,
   "metadata": {},
   "outputs": [
    {
     "data": {
      "text/plain": [
       "['The world as we have created it is a process of our thinking. It cannot be changed without changing our thinking.',\n",
       " 'Albert Einstein',\n",
       " '/author/Albert-Einstein',\n",
       " 'change,deep-thoughts,thinking,world']"
      ]
     },
     "execution_count": 7,
     "metadata": {},
     "output_type": "execute_result"
    }
   ],
   "source": [
    "data[0]"
   ]
  },
  {
   "cell_type": "code",
   "execution_count": 8,
   "metadata": {},
   "outputs": [],
   "source": [
    "df = pd.DataFrame(data, columns=['quote', 'author', 'author_id', 'tags'])  # 'df' is a DataFrame created from 'data' with specified column names"
   ]
  },
  {
   "cell_type": "code",
   "execution_count": 10,
   "metadata": {},
   "outputs": [],
   "source": [
    "df.to_csv('Quotes.csv', index=False)  # Saves the DataFrame 'df' to a CSV file named 'Quotes.csv' without writing row indices"
   ]
  },
  {
   "cell_type": "code",
   "execution_count": null,
   "metadata": {},
   "outputs": [],
   "source": []
  }
 ],
 "metadata": {
  "kernelspec": {
   "display_name": "Python 3",
   "language": "python",
   "name": "python3"
  },
  "language_info": {
   "codemirror_mode": {
    "name": "ipython",
    "version": 3
   },
   "file_extension": ".py",
   "mimetype": "text/x-python",
   "name": "python",
   "nbconvert_exporter": "python",
   "pygments_lexer": "ipython3",
   "version": "3.12.5"
  }
 },
 "nbformat": 4,
 "nbformat_minor": 2
}
