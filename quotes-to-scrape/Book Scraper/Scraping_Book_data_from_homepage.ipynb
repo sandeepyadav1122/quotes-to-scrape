{
 "cells": [
  {
   "cell_type": "code",
   "execution_count": 1,
   "metadata": {},
   "outputs": [],
   "source": [
    "# Import the requests library for making HTTP requests\n",
    "import requests\n",
    "\n",
    "# Import the BeautifulSoup class from the bs4 library for parsing HTML\n",
    "from bs4 import BeautifulSoup"
   ]
  },
  {
   "cell_type": "code",
   "execution_count": 2,
   "metadata": {},
   "outputs": [],
   "source": [
    "link = 'https://books.toscrape.com/'"
   ]
  },
  {
   "cell_type": "code",
   "execution_count": 3,
   "metadata": {},
   "outputs": [],
   "source": [
    "res = requests.get(link)"
   ]
  },
  {
   "cell_type": "code",
   "execution_count": 4,
   "metadata": {},
   "outputs": [],
   "source": [
    "# Parse the HTML content of the page using BeautifulSoup\n",
    "soup = BeautifulSoup(res.text, 'html.parser')\n"
   ]
  },
  {
   "cell_type": "code",
   "execution_count": 5,
   "metadata": {},
   "outputs": [],
   "source": [
    "# Initialize an empty list to store the scraped data\n",
    "data = []\n",
    "\n",
    "# Loop through all 'li' elements with specific class attributes to extract book details\n",
    "for sp in soup.find_all('li', class_='col-xs-6 col-sm-4 col-md-3 col-lg-3'):\n",
    "    \n",
    "    # Construct the full URL for the book's image by combining the base URL with the relative path\n",
    "    img_link = 'https://books.toscrape.com/' + sp.find('img').get('src')[3:]\n",
    "    \n",
    "    # Construct the full URL for the book's page by combining the base URL with the relative path\n",
    "    book_link = 'https://books.toscrape.com/catalogue/' + sp.find_all('a')[-1].get('href')\n",
    "    \n",
    "    # Extract the title of the book from the 'title' attribute of the last 'a' tag\n",
    "    title = sp.find_all('a')[-1].get('title')\n",
    "    \n",
    "    # Extract the rating of the book by retrieving the last class in the 'p' tag's class list\n",
    "    rating = sp.find('p').get('class')[-1]\n",
    "    \n",
    "    # Extract the price of the book, removing the currency symbol\n",
    "    price = sp.find('p', class_='price_color').text[2:]\n",
    "    \n",
    "    # Extract the stock availability, stripping any extra whitespace\n",
    "    stock = sp.find('p', class_='instock availability').text.strip()\n",
    "    \n",
    "    # Append the extracted data (title, rating, price, stock, book_link, img_link) to the data list\n",
    "    data.append([title, rating, price, stock, book_link, img_link])\n"
   ]
  },
  {
   "cell_type": "code",
   "execution_count": 6,
   "metadata": {},
   "outputs": [
    {
     "name": "stdout",
     "output_type": "stream",
     "text": [
      "20\n"
     ]
    }
   ],
   "source": [
    "print(len(data))"
   ]
  },
  {
   "cell_type": "code",
   "execution_count": 7,
   "metadata": {},
   "outputs": [
    {
     "data": {
      "text/plain": [
       "['A Light in the Attic',\n",
       " 'Three',\n",
       " '51.77',\n",
       " 'In stock',\n",
       " 'https://books.toscrape.com/catalogue/catalogue/a-light-in-the-attic_1000/index.html',\n",
       " 'https://books.toscrape.com/ia/cache/2c/da/2cdad67c44b002e7ead0cc35693c0e8b.jpg']"
      ]
     },
     "execution_count": 7,
     "metadata": {},
     "output_type": "execute_result"
    }
   ],
   "source": [
    "data[0]"
   ]
  },
  {
   "cell_type": "code",
   "execution_count": null,
   "metadata": {},
   "outputs": [],
   "source": []
  }
 ],
 "metadata": {
  "kernelspec": {
   "display_name": "Python 3",
   "language": "python",
   "name": "python3"
  },
  "language_info": {
   "codemirror_mode": {
    "name": "ipython",
    "version": 3
   },
   "file_extension": ".py",
   "mimetype": "text/x-python",
   "name": "python",
   "nbconvert_exporter": "python",
   "pygments_lexer": "ipython3",
   "version": "3.12.5"
  }
 },
 "nbformat": 4,
 "nbformat_minor": 2
}
